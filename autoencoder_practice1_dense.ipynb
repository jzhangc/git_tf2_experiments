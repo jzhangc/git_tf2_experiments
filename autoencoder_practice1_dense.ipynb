{
 "cells": [
  {
   "cell_type": "code",
   "execution_count": null,
   "metadata": {},
   "outputs": [],
   "source": [
    "\"\"\"\n",
    "The complete annotation is in autoencoder_practice.py\n",
    "\"\"\"\n",
    "\n",
    "# ------ import modules ------\n",
    "import os\n",
    "from datetime import datetime\n",
    "\n",
    "import numpy as np\n",
    "import pandas as pd\n",
    "import tensorflow as tf\n",
    "tf.compat.v1.disable_eager_execution()\n",
    "import matplotlib.pyplot as plt\n",
    "\n",
    "from tensorflow.keras.callbacks import EarlyStopping\n",
    "from tensorflow.keras.layers import Dense, Input\n",
    "from tensorflow.keras.models import Model, Sequential\n",
    "from tensorflow.python.compiler.mlcompute import mlcompute\n",
    "mlcompute.set_mlc_device(device_name='any')\n",
    "# from tensorflow.keras.optimizers import SGD, Adam\n",
    "# from tensorflow.keras.utils import to_categorical\n",
    "from tqdm import tqdm\n",
    "\n",
    "from tensorflow.keras.datasets import mnist"
   ]
  },
  {
   "cell_type": "code",
   "execution_count": null,
   "metadata": {},
   "outputs": [],
   "source": [
    "# ----- model constuction ------\n",
    "# - autoencoder (complete model) -\n",
    "encoding_dim = 32  # compressed size\n",
    "\n",
    "# Below: input tensor object.\n",
    "input_img = Input(shape=(784, ))\n",
    "\n",
    "# Chain 1, encoding layer: from 784 to 32\n",
    "encoded = Dense(encoding_dim, activation='relu')(input_img)\n",
    "\n",
    "# Chain 2, encoding layer: from 32 to 784\n",
    "# NOTE: 0,1 is the output format, simoid\n",
    "decoded = Dense(784, activation='sigmoid')(encoded)\n",
    "\n",
    "# - Final model -\n",
    "autoencoder = Model(input_img, decoded)\n",
    "\n",
    "# - Seperate encoder model -\n",
    "encoder = Model(input_img, encoded)\n",
    "\n",
    "# - Seperate decoder model -\n",
    "# create a placeholder for an encoded (32-dimensional) input\n",
    "encoded_input = Input(shape=(encoding_dim,))\n",
    "# retrieve the last layer of the autoencoder model\n",
    "decoder_layer = autoencoder.layers[-1]\n",
    "# create the decoder model\n",
    "decoder = Model(encoded_input, decoder_layer(encoded_input))\n"
   ]
  },
  {
   "cell_type": "code",
   "execution_count": null,
   "metadata": {},
   "outputs": [],
   "source": [
    "# ------ train the model ------\n",
    "# - compile/configure the models -\n",
    "autoencoder.compile(optimizer='adam', loss='binary_crossentropy')\n",
    "\n",
    "# - load the MINST data -\n",
    "(x_train, _), (x_test, _) = mnist.load_data()\n",
    "\n",
    "\n",
    "# data rescaling to 0-1: min (0)-max(255) normalization\n",
    "x_train = x_train.astype('float32') / 255\n",
    "x_test = x_test.astype('float32') / 255\n",
    "\n",
    "# data reshape: 60000, 28, 28 -> 60000, 28*28 = 60000, 784\n",
    "x_train = x_train.reshape(len(x_train), np.prod(x_train.shape[1:]))\n",
    "x_test = x_test.reshape(len(x_test), np.prod(x_test.shape[1:]))\n"
   ]
  },
  {
   "cell_type": "code",
   "execution_count": null,
   "metadata": {
    "tags": []
   },
   "outputs": [],
   "source": [
    "# - fit the model -\n",
    "# early stop\n",
    "earlystop_callback = EarlyStopping(monitor='val_loss', patience=5)\n",
    "callbacks = [earlystop_callback] # callback is a list\n",
    "\n",
    "# fitting\n",
    "\"\"\"\n",
    "input, output = x_train,, x_train: because the input and outpout are the same for autoencoder \n",
    "batch_size: we don't set the number of batches. Instead, we set batch_size, which will determine the number of batches\n",
    "    given the total sample number. \n",
    "\"\"\"\n",
    "autoencoder.fit(x_train, x_train,\n",
    "                epochs=50,\n",
    "                batch_size=256, shuffle=True, validation_data=(x_test, x_test),\n",
    "                callbacks=callbacks)"
   ]
  },
  {
   "cell_type": "code",
   "execution_count": null,
   "metadata": {},
   "outputs": [],
   "source": [
    "# ------ display resutls ------\n",
    "# - predict -\n",
    "# encode and decode some digits\n",
    "# note that we take them from the *test* set\n",
    "encoded_imgs = encoder.predict(x_test)  # get the encoded image\n",
    "decoded_imgs = decoder.predict(encoded_imgs)  # decode the encoded image\n",
    "\n",
    "# - visulization -\n",
    "n = 10  # how many digits we will display\n",
    "plt.figure(figsize=(20, 4))\n",
    "for i in range(n):\n",
    "    # display original\n",
    "    ax = plt.subplot(2, n, i + 1)\n",
    "    plt.imshow(x_test[i].reshape(28, 28))\n",
    "    plt.gray()\n",
    "    ax.get_xaxis().set_visible(False)\n",
    "    ax.get_yaxis().set_visible(False)\n",
    "\n",
    "    # display reconstruction\n",
    "    ax = plt.subplot(2, n, i + 1 + n)\n",
    "    plt.imshow(decoded_imgs[i].reshape(28, 28))\n",
    "    plt.gray()\n",
    "    ax.get_xaxis().set_visible(False)\n",
    "    ax.get_yaxis().set_visible(False)\n",
    "plt.show()"
   ]
  }
 ],
 "metadata": {
  "kernelspec": {
   "name": "pythonjvsc74a57bd0f6abfb86dc54f951e1d6f2a3840fc2d7e883f15fe9e1bff07aebbf13b5d15bf8",
   "display_name": "Python 3.8  (conda)"
  },
  "language_info": {
   "codemirror_mode": {
    "name": "ipython",
    "version": 3
   },
   "file_extension": ".py",
   "mimetype": "text/x-python",
   "name": "python",
   "nbconvert_exporter": "python",
   "pygments_lexer": "ipython3",
   "version": "3.8"
  },
  "metadata": {
   "interpreter": {
    "hash": "f6abfb86dc54f951e1d6f2a3840fc2d7e883f15fe9e1bff07aebbf13b5d15bf8"
   }
  },
  "orig_nbformat": 2
 },
 "nbformat": 4,
 "nbformat_minor": 2
}