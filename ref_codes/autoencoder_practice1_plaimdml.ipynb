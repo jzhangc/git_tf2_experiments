{
 "cells": [
  {
   "cell_type": "code",
   "execution_count": 1,
   "metadata": {
    "tags": []
   },
   "outputs": [
    {
     "name": "stderr",
     "output_type": "stream",
     "text": [
      "Using plaidml.keras.backend backend.\n"
     ]
    }
   ],
   "source": [
    "\"\"\"\n",
    "The complete annotation is in autoencoder_practice.py\n",
    "\"\"\"\n",
    "\n",
    "# ------ import modules ------\n",
    "import os\n",
    "os.environ[\"KERAS_BACKEND\"] = \"plaidml.keras.backend\"\n",
    "\n",
    "from datetime import datetime\n",
    "\n",
    "import numpy as np\n",
    "import pandas as pd\n",
    "import matplotlib.pyplot as plt\n",
    " \n",
    "from tqdm import tqdm\n",
    "from keras.callbacks import EarlyStopping\n",
    "from keras.utils import to_categorical\n",
    "from keras.layers import Dense, Input\n",
    "from keras.models import Model, Sequential\n",
    "from keras.datasets import mnist"
   ]
  },
  {
   "cell_type": "code",
   "execution_count": 2,
   "metadata": {
    "tags": []
   },
   "outputs": [
    {
     "name": "stderr",
     "output_type": "stream",
     "text": [
      "INFO:plaidml:Opening device \"metal_amd_radeon_pro_5500_xt.0\"\n"
     ]
    }
   ],
   "source": [
    "# ----- model constuction ------\n",
    "# - autoencoder (complete model) -\n",
    "encoding_dim = 32  # compressed size\n",
    "\n",
    "# Below: input tensor object.\n",
    "input_img = Input(shape=(784, ))\n",
    "\n",
    "# Chain 1, encoding layer: from 784 to 32\n",
    "encoded = Dense(encoding_dim, activation='relu')(input_img)\n",
    "\n",
    "# Chain 2, encoding layer: from 32 to 784\n",
    "# NOTE: 0,1 is the output format, simoid\n",
    "decoded = Dense(784, activation='sigmoid')(encoded)\n",
    "\n",
    "# - Final model -\n",
    "autoencoder = Model(input_img, decoded)\n",
    "\n",
    "# - Seperate encoder model -\n",
    "encoder = Model(input_img, encoded)\n",
    "\n",
    "# - Seperate decoder model -\n",
    "# create a placeholder for an encoded (32-dimensional) input\n",
    "encoded_input = Input(shape=(encoding_dim,))\n",
    "# retrieve the last layer of the autoencoder model\n",
    "decoder_layer = autoencoder.layers[-1]\n",
    "# create the decoder model\n",
    "decoder = Model(encoded_input, decoder_layer(encoded_input))"
   ]
  },
  {
   "cell_type": "code",
   "execution_count": 3,
   "metadata": {
    "tags": []
   },
   "outputs": [],
   "source": [
    "# ------ train the model ------\n",
    "# - compile/configure the models -\n",
    "autoencoder.compile(optimizer='adam', loss='binary_crossentropy')\n",
    "\n",
    "# - load the MINST data -\n",
    "(x_train, y_train), (x_test, y_test) = mnist.load_data()\n",
    "y_train = to_categorical(y_train)\n",
    "y_test = to_categorical(y_test)\n",
    "\n",
    "# data rescaling to 0-1: min (0)-max(255) normalization\n",
    "x_train = x_train.astype('float32') / 255\n",
    "x_test = x_test.astype('float32') / 255\n",
    "\n",
    "# data reshape: 60000, 28, 28 -> 60000, 28*28 = 60000, 784\n",
    "x_train = x_train.reshape(len(x_train), np.prod(x_train.shape[1:]))\n",
    "x_test = x_test.reshape(len(x_test), np.prod(x_test.shape[1:]))\n",
    "\n",
    "# x_train_s = x_train[:50, :]\n",
    "# x_test_s = x_test[:10, :]"
   ]
  },
  {
   "cell_type": "code",
   "execution_count": 4,
   "metadata": {
    "tags": []
   },
   "outputs": [
    {
     "name": "stdout",
     "output_type": "stream",
     "text": [
      "Train on 60000 samples, validate on 10000 samples\n",
      "Epoch 1/50\n",
      "60000/60000 [==============================] - 2s 38us/step - loss: 0.2776 - val_loss: 0.1884\n",
      "Epoch 2/50\n",
      "60000/60000 [==============================] - 1s 14us/step - loss: 0.1701 - val_loss: 0.1536\n",
      "Epoch 3/50\n",
      "60000/60000 [==============================] - 1s 14us/step - loss: 0.1449 - val_loss: 0.1347\n",
      "Epoch 4/50\n",
      "60000/60000 [==============================] - 1s 14us/step - loss: 0.1296 - val_loss: 0.1227\n",
      "Epoch 5/50\n",
      "60000/60000 [==============================] - 1s 14us/step - loss: 0.1196 - val_loss: 0.1142\n",
      "Epoch 6/50\n",
      "60000/60000 [==============================] - 1s 14us/step - loss: 0.1125 - val_loss: 0.1083\n",
      "Epoch 7/50\n",
      "60000/60000 [==============================] - 1s 14us/step - loss: 0.1073 - val_loss: 0.1037\n",
      "Epoch 8/50\n",
      "60000/60000 [==============================] - 1s 14us/step - loss: 0.1034 - val_loss: 0.1004\n",
      "Epoch 9/50\n",
      "60000/60000 [==============================] - 1s 14us/step - loss: 0.1004 - val_loss: 0.0980\n",
      "Epoch 10/50\n",
      "60000/60000 [==============================] - 1s 14us/step - loss: 0.0983 - val_loss: 0.0962\n",
      "Epoch 11/50\n",
      "60000/60000 [==============================] - 1s 14us/step - loss: 0.0968 - val_loss: 0.0949\n",
      "Epoch 12/50\n",
      "60000/60000 [==============================] - 1s 14us/step - loss: 0.0958 - val_loss: 0.0942\n",
      "Epoch 13/50\n",
      "60000/60000 [==============================] - 1s 14us/step - loss: 0.0952 - val_loss: 0.0937\n",
      "Epoch 14/50\n",
      "60000/60000 [==============================] - 1s 14us/step - loss: 0.0947 - val_loss: 0.0933\n",
      "Epoch 15/50\n",
      "60000/60000 [==============================] - 1s 14us/step - loss: 0.0944 - val_loss: 0.0930\n",
      "Epoch 16/50\n",
      "60000/60000 [==============================] - 1s 14us/step - loss: 0.0942 - val_loss: 0.0928\n",
      "Epoch 17/50\n",
      "60000/60000 [==============================] - 1s 14us/step - loss: 0.0940 - val_loss: 0.0926\n",
      "Epoch 18/50\n",
      "60000/60000 [==============================] - 1s 14us/step - loss: 0.0938 - val_loss: 0.0925\n",
      "Epoch 19/50\n",
      "60000/60000 [==============================] - 1s 14us/step - loss: 0.0937 - val_loss: 0.0924\n",
      "Epoch 20/50\n",
      "60000/60000 [==============================] - 1s 14us/step - loss: 0.0936 - val_loss: 0.0923\n",
      "Epoch 21/50\n",
      "60000/60000 [==============================] - 1s 14us/step - loss: 0.0935 - val_loss: 0.0923\n",
      "Epoch 22/50\n",
      "60000/60000 [==============================] - 1s 14us/step - loss: 0.0934 - val_loss: 0.0921\n",
      "Epoch 23/50\n",
      "60000/60000 [==============================] - 1s 14us/step - loss: 0.0934 - val_loss: 0.0922\n",
      "Epoch 24/50\n",
      "60000/60000 [==============================] - 1s 14us/step - loss: 0.0933 - val_loss: 0.0920\n",
      "Epoch 25/50\n",
      "60000/60000 [==============================] - 1s 14us/step - loss: 0.0932 - val_loss: 0.0920\n",
      "Epoch 26/50\n",
      "60000/60000 [==============================] - 1s 14us/step - loss: 0.0932 - val_loss: 0.0920\n",
      "Epoch 27/50\n",
      "60000/60000 [==============================] - 1s 14us/step - loss: 0.0931 - val_loss: 0.0920\n",
      "Epoch 28/50\n",
      "60000/60000 [==============================] - 1s 14us/step - loss: 0.0931 - val_loss: 0.0918\n",
      "Epoch 29/50\n",
      "60000/60000 [==============================] - 1s 14us/step - loss: 0.0930 - val_loss: 0.0918\n",
      "Epoch 30/50\n",
      "60000/60000 [==============================] - 1s 14us/step - loss: 0.0930 - val_loss: 0.0917\n",
      "Epoch 31/50\n",
      "60000/60000 [==============================] - 1s 14us/step - loss: 0.0930 - val_loss: 0.0918\n",
      "Epoch 32/50\n",
      "60000/60000 [==============================] - 1s 14us/step - loss: 0.0930 - val_loss: 0.0918\n",
      "Epoch 33/50\n",
      "60000/60000 [==============================] - 1s 14us/step - loss: 0.0929 - val_loss: 0.0917\n",
      "Epoch 34/50\n",
      "60000/60000 [==============================] - 1s 14us/step - loss: 0.0929 - val_loss: 0.0917\n",
      "Epoch 35/50\n",
      "60000/60000 [==============================] - 1s 14us/step - loss: 0.0929 - val_loss: 0.0916\n",
      "Epoch 36/50\n",
      "60000/60000 [==============================] - 1s 14us/step - loss: 0.0928 - val_loss: 0.0917\n",
      "Epoch 37/50\n",
      "60000/60000 [==============================] - 1s 14us/step - loss: 0.0928 - val_loss: 0.0916\n",
      "Epoch 38/50\n",
      "60000/60000 [==============================] - 1s 14us/step - loss: 0.0928 - val_loss: 0.0916\n",
      "Epoch 39/50\n",
      "60000/60000 [==============================] - 1s 14us/step - loss: 0.0928 - val_loss: 0.0915\n",
      "Epoch 40/50\n",
      "60000/60000 [==============================] - 1s 14us/step - loss: 0.0928 - val_loss: 0.0916\n",
      "Epoch 41/50\n",
      "60000/60000 [==============================] - 1s 14us/step - loss: 0.0927 - val_loss: 0.0915\n",
      "Epoch 42/50\n",
      "60000/60000 [==============================] - 1s 14us/step - loss: 0.0927 - val_loss: 0.0915\n",
      "Epoch 43/50\n",
      "60000/60000 [==============================] - 1s 14us/step - loss: 0.0927 - val_loss: 0.0915\n",
      "Epoch 44/50\n",
      "60000/60000 [==============================] - 1s 14us/step - loss: 0.0927 - val_loss: 0.0915\n",
      "Epoch 45/50\n",
      "60000/60000 [==============================] - 1s 14us/step - loss: 0.0927 - val_loss: 0.0915\n",
      "Epoch 46/50\n",
      "60000/60000 [==============================] - 1s 14us/step - loss: 0.0927 - val_loss: 0.0915\n",
      "Epoch 47/50\n",
      "60000/60000 [==============================] - 1s 14us/step - loss: 0.0927 - val_loss: 0.0915\n",
      "Epoch 48/50\n",
      "60000/60000 [==============================] - 1s 15us/step - loss: 0.0927 - val_loss: 0.0915\n",
      "Epoch 49/50\n",
      "60000/60000 [==============================] - 1s 14us/step - loss: 0.0926 - val_loss: 0.0914\n",
      "Epoch 50/50\n",
      "60000/60000 [==============================] - 1s 14us/step - loss: 0.0926 - val_loss: 0.0915\n"
     ]
    },
    {
     "data": {
      "text/plain": "<keras.callbacks.History at 0x7fca11c45e90>"
     },
     "execution_count": 4,
     "metadata": {},
     "output_type": "execute_result"
    }
   ],
   "source": [
    "# - fit the model -\n",
    "# early stop\n",
    "earlystop_callback = EarlyStopping(monitor='val_loss', patience=5)\n",
    "callbacks = [earlystop_callback] # callback is a list\n",
    "\n",
    "# fitting\n",
    "\"\"\"\n",
    "input, output = x_train,, x_train: because the input and outpout are the same for autoencoder \n",
    "batch_size: we don't set the number of batches. Instead, we set batch_size, which will determine the number of batches\n",
    "    given the total sample number. \n",
    "\"\"\"\n",
    "autoencoder.fit(x_train, x_train,\n",
    "                epochs=50,\n",
    "                batch_size=256, callbacks=callbacks,\n",
    "                shuffle=True, validation_data=(x_test, x_test))"
   ]
  },
  {
   "cell_type": "code",
   "execution_count": 5,
   "metadata": {},
   "outputs": [
    {
     "data": {
      "image/png": "[encoded data removed]",
      "text/plain": "<Figure size 1440x288 with 20 Axes>"
     },
     "metadata": {
      "needs_background": "light"
     },
     "output_type": "display_data"
    }
   ],
   "source": [
    "# ------ display resutls ------\n",
    "# - predict -\n",
    "# encode and decode some digits\n",
    "# note that we take them from the *test* set\n",
    "encoded_imgs = encoder.predict(x_test)  # get the encoded image\n",
    "decoded_imgs = decoder.predict(encoded_imgs)  # decode the encoded image\n",
    "\n",
    "# - visulization -\n",
    "n = 10  # how many digits we will display\n",
    "plt.figure(figsize=(20, 4))\n",
    "for i in range(n):\n",
    "    # display original\n",
    "    ax = plt.subplot(2, n, i + 1)\n",
    "    plt.imshow(x_test[i].reshape(28, 28))\n",
    "    plt.gray()\n",
    "    ax.get_xaxis().set_visible(False)\n",
    "    ax.get_yaxis().set_visible(False)\n",
    "\n",
    "    # display reconstruction\n",
    "    ax = plt.subplot(2, n, i + 1 + n)\n",
    "    plt.imshow(decoded_imgs[i].reshape(28, 28))\n",
    "    plt.gray()\n",
    "    ax.get_xaxis().set_visible(False)\n",
    "    ax.get_yaxis().set_visible(False)\n",
    "plt.show()"
   ]
  },
  {
   "cell_type": "code",
   "execution_count": 6,
   "metadata": {},
   "outputs": [
    {
     "data": {
      "text/plain": "array([ 6.7625155,  8.355247 ,  1.5891633,  8.520826 ,  7.537199 ,\n        4.429767 ,  4.029958 ,  4.0883145, 10.830561 ,  7.538973 ,\n        5.941377 , 10.922392 ,  4.812436 ,  5.5407405,  7.03783  ,\n        0.759146 ,  6.5985756,  8.064661 ,  1.2654914,  4.702437 ,\n        8.253177 ,  7.917054 , 14.23715  ,  4.896682 ,  6.1442876,\n        4.074359 ,  2.4219701,  4.8741465,  4.6177435,  2.9189553,\n       15.170843 , 13.03728  ], dtype=float32)"
     },
     "execution_count": 6,
     "metadata": {},
     "output_type": "execute_result"
    }
   ],
   "source": [
    "encoded_imgs[0, :]"
   ]
  },
  {
   "cell_type": "code",
   "execution_count": null,
   "metadata": {},
   "outputs": [],
   "source": []
  }
 ],
 "metadata": {
  "kernelspec": {
   "display_name": "Python 3.7.10 64-bit (conda)",
   "name": "python3710jvsc74a57bd0967fbc00e2dc812f44a8360e0826f6ab7f900e09ecaf07762ab5653e17bd1f67"
  },
  "language_info": {
   "codemirror_mode": {
    "name": "ipython",
    "version": 3
   },
   "file_extension": ".py",
   "mimetype": "text/x-python",
   "name": "python",
   "nbconvert_exporter": "python",
   "pygments_lexer": "ipython3",
   "version": "3.7.10"
  },
  "orig_nbformat": 2
 },
 "nbformat": 4,
 "nbformat_minor": 2
}